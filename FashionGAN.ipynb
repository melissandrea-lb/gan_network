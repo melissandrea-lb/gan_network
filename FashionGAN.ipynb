{
 "cells": [
  {
   "cell_type": "markdown",
   "id": "3f8ba38e",
   "metadata": {},
   "source": [
    "# Librerías "
   ]
  },
  {
   "cell_type": "code",
   "execution_count": 1,
   "id": "5d636d0f",
   "metadata": {
    "scrolled": true
   },
   "outputs": [
    {
     "name": "stderr",
     "output_type": "stream",
     "text": [
      "C:\\Users\\Melissa\\anaconda3\\envs\\ptl_env\\lib\\site-packages\\scipy\\__init__.py:146: UserWarning: A NumPy version >=1.16.5 and <1.23.0 is required for this version of SciPy (detected version 1.23.2\n",
      "  warnings.warn(f\"A NumPy version >={np_minversion} and <{np_maxversion}\"\n"
     ]
    }
   ],
   "source": [
    "import tensorflow as tf\n",
    "import tensorflow_datasets as tfds\n",
    "import matplotlib.pyplot as plt"
   ]
  },
  {
   "cell_type": "code",
   "execution_count": 2,
   "id": "1222b729",
   "metadata": {},
   "outputs": [],
   "source": [
    "gpus = tf.config.experimental.list_physical_devices('GPU')\n",
    "for gpu in gpus:\n",
    "    tf.config.experimental.set_memory_growth(gpu, True)"
   ]
  },
  {
   "cell_type": "code",
   "execution_count": 3,
   "id": "21da2189",
   "metadata": {},
   "outputs": [
    {
     "name": "stdout",
     "output_type": "stream",
     "text": [
      "PhysicalDevice(name='/physical_device:GPU:0', device_type='GPU')\n"
     ]
    }
   ],
   "source": [
    "for gpu in gpus:\n",
    "    print(gpu)"
   ]
  },
  {
   "cell_type": "code",
   "execution_count": 4,
   "id": "d7c28da4",
   "metadata": {},
   "outputs": [],
   "source": [
    "import numpy as np"
   ]
  },
  {
   "cell_type": "code",
   "execution_count": 5,
   "id": "09ad1f6e",
   "metadata": {},
   "outputs": [],
   "source": [
    "from tensorflow.keras.models import Sequential\n",
    "from tensorflow.keras.layers import Conv2D, Dense, Flatten, Reshape, LeakyReLU, Dropout, UpSampling2D"
   ]
  },
  {
   "cell_type": "markdown",
   "id": "9a722576",
   "metadata": {},
   "source": [
    "# Visualización de datos"
   ]
  },
  {
   "cell_type": "code",
   "execution_count": 6,
   "id": "2f824d8a",
   "metadata": {},
   "outputs": [],
   "source": [
    "ds = tfds.load('fashion_mnist', split='train')\n",
    "dataiterator = ds.as_numpy_iterator()"
   ]
  },
  {
   "cell_type": "code",
   "execution_count": 7,
   "id": "e5999123",
   "metadata": {},
   "outputs": [
    {
     "data": {
      "text/plain": [
       "(28, 28)"
      ]
     },
     "execution_count": 7,
     "metadata": {},
     "output_type": "execute_result"
    }
   ],
   "source": [
    "np.squeeze(dataiterator.next()['image']).shape"
   ]
  },
  {
   "cell_type": "code",
   "execution_count": 8,
   "id": "78a1e463",
   "metadata": {},
   "outputs": [
    {
     "data": {
      "image/png": "[encoded data removed]",
      "text/plain": [
       "<Figure size 1440x1440 with 4 Axes>"
      ]
     },
     "metadata": {
      "needs_background": "light"
     },
     "output_type": "display_data"
    }
   ],
   "source": [
    "fig, ax = plt.subplots(ncols=4, figsize=(20,20))\n",
    "for idx in range(4):\n",
    "    sample = dataiterator.next()\n",
    "    ax[idx].imshow(np.squeeze(sample['image']))\n",
    "    ax[idx].title.set_text(sample['label'])    "
   ]
  },
  {
   "cell_type": "code",
   "execution_count": 9,
   "id": "93d4f2fa",
   "metadata": {},
   "outputs": [],
   "source": [
    "def scale_images(data):\n",
    "    image = data['image']\n",
    "    return image/255"
   ]
  },
  {
   "cell_type": "code",
   "execution_count": 10,
   "id": "c2947e9b",
   "metadata": {},
   "outputs": [],
   "source": [
    "ds = tfds.load('fashion_mnist', split='train')\n",
    "ds = ds.map(scale_images)\n",
    "ds = ds.cache()\n",
    "ds = ds.shuffle(60000)\n",
    "ds = ds.batch(128)\n",
    "ds = ds.prefetch(64)"
   ]
  },
  {
   "cell_type": "code",
   "execution_count": 11,
   "id": "c3634bb6",
   "metadata": {},
   "outputs": [
    {
     "data": {
      "text/plain": [
       "(128, 28, 28, 1)"
      ]
     },
     "execution_count": 11,
     "metadata": {},
     "output_type": "execute_result"
    }
   ],
   "source": [
    "ds.as_numpy_iterator().next().shape"
   ]
  },
  {
   "cell_type": "markdown",
   "id": "7aca165f",
   "metadata": {},
   "source": [
    "# Neural Network"
   ]
  },
  {
   "cell_type": "code",
   "execution_count": 12,
   "id": "22bbdec7",
   "metadata": {},
   "outputs": [],
   "source": [
    "def build_generator():\n",
    "    model = Sequential()\n",
    "    \n",
    "    model.add(Dense(7*7*128, input_dim=128))\n",
    "    model.add(LeakyReLU(0.2))\n",
    "    model.add(Reshape((7,7,128)))\n",
    "    \n",
    "    model.add(UpSampling2D())\n",
    "    model.add(Conv2D(128, 5, padding='same'))\n",
    "    model.add(LeakyReLU(0.2))\n",
    "    \n",
    "    model.add(UpSampling2D())\n",
    "    model.add(Conv2D(128, 5, padding='same'))\n",
    "    model.add(LeakyReLU(0.2))\n",
    "    \n",
    "    model.add(Conv2D(128, 4, padding='same'))\n",
    "    model.add(LeakyReLU(0.2))\n",
    "    \n",
    "    model.add(Conv2D(128, 4, padding='same'))\n",
    "    model.add(LeakyReLU(0.2))\n",
    "    \n",
    "    model.add(Conv2D(1, 4, padding='same', activation='sigmoid'))\n",
    "    \n",
    "    return model"
   ]
  },
  {
   "cell_type": "code",
   "execution_count": 13,
   "id": "a699bed1",
   "metadata": {},
   "outputs": [],
   "source": [
    "generator = build_generator()"
   ]
  },
  {
   "cell_type": "code",
   "execution_count": 14,
   "id": "30e8b4d0",
   "metadata": {},
   "outputs": [
    {
     "name": "stdout",
     "output_type": "stream",
     "text": [
      "Model: \"sequential\"\n",
      "_________________________________________________________________\n",
      " Layer (type)                Output Shape              Param #   \n",
      "=================================================================\n",
      " dense (Dense)               (None, 6272)              809088    \n",
      "                                                                 \n",
      " leaky_re_lu (LeakyReLU)     (None, 6272)              0         \n",
      "                                                                 \n",
      " reshape (Reshape)           (None, 7, 7, 128)         0         \n",
      "                                                                 \n",
      " up_sampling2d (UpSampling2D  (None, 14, 14, 128)      0         \n",
      " )                                                               \n",
      "                                                                 \n",
      " conv2d (Conv2D)             (None, 14, 14, 128)       409728    \n",
      "                                                                 \n",
      " leaky_re_lu_1 (LeakyReLU)   (None, 14, 14, 128)       0         \n",
      "                                                                 \n",
      " up_sampling2d_1 (UpSampling  (None, 28, 28, 128)      0         \n",
      " 2D)                                                             \n",
      "                                                                 \n",
      " conv2d_1 (Conv2D)           (None, 28, 28, 128)       409728    \n",
      "                                                                 \n",
      " leaky_re_lu_2 (LeakyReLU)   (None, 28, 28, 128)       0         \n",
      "                                                                 \n",
      " conv2d_2 (Conv2D)           (None, 28, 28, 128)       262272    \n",
      "                                                                 \n",
      " leaky_re_lu_3 (LeakyReLU)   (None, 28, 28, 128)       0         \n",
      "                                                                 \n",
      " conv2d_3 (Conv2D)           (None, 28, 28, 128)       262272    \n",
      "                                                                 \n",
      " leaky_re_lu_4 (LeakyReLU)   (None, 28, 28, 128)       0         \n",
      "                                                                 \n",
      " conv2d_4 (Conv2D)           (None, 28, 28, 1)         2049      \n",
      "                                                                 \n",
      "=================================================================\n",
      "Total params: 2,155,137\n",
      "Trainable params: 2,155,137\n",
      "Non-trainable params: 0\n",
      "_________________________________________________________________\n"
     ]
    }
   ],
   "source": [
    "generator.summary()"
   ]
  },
  {
   "cell_type": "code",
   "execution_count": 15,
   "id": "9fdf468c",
   "metadata": {},
   "outputs": [],
   "source": [
    "img = generator.predict(np.random.randn(4,128,1))"
   ]
  },
  {
   "cell_type": "code",
   "execution_count": 16,
   "id": "4f0c1aa2",
   "metadata": {},
   "outputs": [
    {
     "data": {
      "image/png": "[encoded data removed]",
      "text/plain": [
       "<Figure size 1440x1440 with 4 Axes>"
      ]
     },
     "metadata": {
      "needs_background": "light"
     },
     "output_type": "display_data"
    }
   ],
   "source": [
    "img = generator.predict(np.random.randn(4,128))\n",
    "fig, ax = plt.subplots(ncols=4, figsize=(20,20))\n",
    "for idx, img in enumerate(img):\n",
    "    ax[idx].imshow(np.squeeze(img))\n",
    "    ax[idx].title.set_text(idx)    "
   ]
  },
  {
   "cell_type": "code",
   "execution_count": 17,
   "id": "d01f24df",
   "metadata": {},
   "outputs": [],
   "source": [
    "def build_discriminator():\n",
    "    model = Sequential()\n",
    "    \n",
    "    model.add(Conv2D(32, 5, input_shape=(28,28,1)))\n",
    "    model.add(LeakyReLU(0.2))\n",
    "    model.add(Dropout(0.4))\n",
    "\n",
    "    model.add(Conv2D(64, 5))\n",
    "    model.add(LeakyReLU(0.2))\n",
    "    model.add(Dropout(0.4))\n",
    "\n",
    "    model.add(Conv2D(128, 5))\n",
    "    model.add(LeakyReLU(0.2))\n",
    "    model.add(Dropout(0.4))\n",
    "\n",
    "    model.add(Conv2D(256, 5))\n",
    "    model.add(LeakyReLU(0.2))\n",
    "    model.add(Dropout(0.4))\n",
    "\n",
    "    model.add(Flatten())\n",
    "    model.add(Dropout(0.4))\n",
    "    model.add(Dense(1, activation='sigmoid'))\n",
    "\n",
    "    return model"
   ]
  },
  {
   "cell_type": "code",
   "execution_count": 18,
   "id": "fdbcb782",
   "metadata": {},
   "outputs": [],
   "source": [
    "discriminator = build_discriminator()"
   ]
  },
  {
   "cell_type": "code",
   "execution_count": 19,
   "id": "9dd9a624",
   "metadata": {},
   "outputs": [
    {
     "name": "stdout",
     "output_type": "stream",
     "text": [
      "Model: \"sequential_1\"\n",
      "_________________________________________________________________\n",
      " Layer (type)                Output Shape              Param #   \n",
      "=================================================================\n",
      " conv2d_5 (Conv2D)           (None, 24, 24, 32)        832       \n",
      "                                                                 \n",
      " leaky_re_lu_5 (LeakyReLU)   (None, 24, 24, 32)        0         \n",
      "                                                                 \n",
      " dropout (Dropout)           (None, 24, 24, 32)        0         \n",
      "                                                                 \n",
      " conv2d_6 (Conv2D)           (None, 20, 20, 64)        51264     \n",
      "                                                                 \n",
      " leaky_re_lu_6 (LeakyReLU)   (None, 20, 20, 64)        0         \n",
      "                                                                 \n",
      " dropout_1 (Dropout)         (None, 20, 20, 64)        0         \n",
      "                                                                 \n",
      " conv2d_7 (Conv2D)           (None, 16, 16, 128)       204928    \n",
      "                                                                 \n",
      " leaky_re_lu_7 (LeakyReLU)   (None, 16, 16, 128)       0         \n",
      "                                                                 \n",
      " dropout_2 (Dropout)         (None, 16, 16, 128)       0         \n",
      "                                                                 \n",
      " conv2d_8 (Conv2D)           (None, 12, 12, 256)       819456    \n",
      "                                                                 \n",
      " leaky_re_lu_8 (LeakyReLU)   (None, 12, 12, 256)       0         \n",
      "                                                                 \n",
      " dropout_3 (Dropout)         (None, 12, 12, 256)       0         \n",
      "                                                                 \n",
      " flatten (Flatten)           (None, 36864)             0         \n",
      "                                                                 \n",
      " dropout_4 (Dropout)         (None, 36864)             0         \n",
      "                                                                 \n",
      " dense_1 (Dense)             (None, 1)                 36865     \n",
      "                                                                 \n",
      "=================================================================\n",
      "Total params: 1,113,345\n",
      "Trainable params: 1,113,345\n",
      "Non-trainable params: 0\n",
      "_________________________________________________________________\n"
     ]
    }
   ],
   "source": [
    "discriminator.summary()"
   ]
  },
  {
   "cell_type": "markdown",
   "id": "154c6121",
   "metadata": {},
   "source": [
    "# Entrenamiento"
   ]
  },
  {
   "cell_type": "code",
   "execution_count": 20,
   "id": "3e276208",
   "metadata": {},
   "outputs": [],
   "source": [
    "from tensorflow.keras.optimizers import Adam\n",
    "from tensorflow.keras.losses import BinaryCrossentropy"
   ]
  },
  {
   "cell_type": "code",
   "execution_count": 21,
   "id": "41f17d58",
   "metadata": {},
   "outputs": [],
   "source": [
    "g_opt =  Adam(learning_rate=0.0001)\n",
    "d_opt =  Adam(learning_rate=0.00001)\n",
    "g_loss = BinaryCrossentropy()\n",
    "d_loss = BinaryCrossentropy()"
   ]
  },
  {
   "cell_type": "code",
   "execution_count": 22,
   "id": "b9c97d64",
   "metadata": {},
   "outputs": [],
   "source": [
    "from tensorflow.keras.models import Model"
   ]
  },
  {
   "cell_type": "code",
   "execution_count": 23,
   "id": "d45091da",
   "metadata": {},
   "outputs": [],
   "source": [
    "import tensorflow as tf\n",
    "from tensorflow import keras\n",
    "from tensorflow.keras.models import Model\n",
    "from tensorflow.keras.layers import Input, Dense, Conv2D, Conv2DTranspose, UpSampling2D, MaxPooling2D, Flatten, ZeroPadding2D\n",
    "from tensorflow.keras.preprocessing.image import ImageDataGenerator\n",
    "from tensorflow.keras.optimizers import Adam\n",
    "import numpy as np"
   ]
  },
  {
   "cell_type": "code",
   "execution_count": 24,
   "id": "fa0799f1",
   "metadata": {},
   "outputs": [],
   "source": [
    "class FashionGAN(Model): \n",
    "    def __init__(self, generator, discriminator, *args, **kwargs):\n",
    " \n",
    "        super().__init__(*args, **kwargs)\n",
    "        \n",
    "        self.generator = generator \n",
    "        self.discriminator = discriminator \n",
    "        \n",
    "    def compile(self, g_opt, d_opt, g_loss, d_loss, *args, **kwargs): \n",
    "\n",
    "        super().compile(*args, **kwargs)\n",
    "        \n",
    "        self.g_opt = g_opt\n",
    "        self.d_opt = d_opt\n",
    "        self.g_loss = g_loss\n",
    "        self.d_loss = d_loss \n",
    "\n",
    "    def train_step(self, batch):\n",
    "        \n",
    "        real_images = batch\n",
    "        fake_images = self.generator(tf.random.normal((128, 128, 1)), training=False)\n",
    "        \n",
    "        with tf.GradientTape() as d_tape: \n",
    "\n",
    "            yhat_real = self.discriminator(real_images, training=True) \n",
    "            yhat_fake = self.discriminator(fake_images, training=True)\n",
    "            yhat_realfake = tf.concat([yhat_real, yhat_fake], axis=0)\n",
    "            \n",
    "            y_realfake = tf.concat([tf.zeros_like(yhat_real), tf.ones_like(yhat_fake)], axis=0)\n",
    "            \n",
    "            noise_real = 0.15*tf.random.uniform(tf.shape(yhat_real))\n",
    "            noise_fake = -0.15*tf.random.uniform(tf.shape(yhat_fake))\n",
    "            y_realfake += tf.concat([noise_real, noise_fake], axis=0)\n",
    "            \n",
    "            total_d_loss = self.d_loss(y_realfake, yhat_realfake)\n",
    "            \n",
    "        dgrad = d_tape.gradient(total_d_loss, self.discriminator.trainable_variables) \n",
    "        self.d_opt.apply_gradients(zip(dgrad, self.discriminator.trainable_variables))\n",
    "        \n",
    "        with tf.GradientTape() as g_tape: \n",
    "            \n",
    "            gen_images = self.generator(tf.random.normal((128,128,1)), training=True)\n",
    "            predicted_labels = self.discriminator(gen_images, training=False)                                  \n",
    "            total_g_loss = self.g_loss(tf.zeros_like(predicted_labels), predicted_labels) \n",
    "            \n",
    "        ggrad = g_tape.gradient(total_g_loss, self.generator.trainable_variables)\n",
    "        self.g_opt.apply_gradients(zip(ggrad, self.generator.trainable_variables))\n",
    "        \n",
    "        return {\"d_loss\":total_d_loss, \"g_loss\":total_g_loss}"
   ]
  },
  {
   "cell_type": "code",
   "execution_count": 25,
   "id": "613d1f68",
   "metadata": {},
   "outputs": [],
   "source": [
    "fashgan = FashionGAN(generator, discriminator)"
   ]
  },
  {
   "cell_type": "code",
   "execution_count": 26,
   "id": "4922926f",
   "metadata": {},
   "outputs": [],
   "source": [
    "fashgan.compile(g_opt, d_opt, g_loss, d_loss)"
   ]
  },
  {
   "cell_type": "code",
   "execution_count": 27,
   "id": "4c5d5162",
   "metadata": {},
   "outputs": [],
   "source": [
    "import os\n",
    "from tensorflow.keras.preprocessing.image import array_to_img\n",
    "from tensorflow.keras.callbacks import Callback"
   ]
  },
  {
   "cell_type": "code",
   "execution_count": 28,
   "id": "a42e624a",
   "metadata": {},
   "outputs": [],
   "source": [
    "class ModelMonitor(Callback):\n",
    "    def __init__(self, num_img=3, latent_dim=128):\n",
    "        self.num_img = num_img\n",
    "        self.latent_dim = latent_dim\n",
    "\n",
    "    def on_epoch_end(self, epoch, logs=None):\n",
    "        random_latent_vectors = tf.random.uniform((self.num_img, self.latent_dim,1))\n",
    "        generated_images = self.model.generator(random_latent_vectors)\n",
    "        generated_images *= 255\n",
    "        generated_images.numpy()\n",
    "        for i in range(self.num_img):\n",
    "            img = array_to_img(generated_images[i])\n",
    "            img.save(os.path.join('images', f'generated_img_{epoch}_{i}.png'))"
   ]
  },
  {
   "cell_type": "code",
   "execution_count": 172,
   "id": "f9035616",
   "metadata": {},
   "outputs": [
    {
     "name": "stdout",
     "output_type": "stream",
     "text": [
      "Epoch 1/200\n",
      "  6/469 [..............................] - ETA: 1:38 - d_loss: 0.6945 - g_loss: 0.6905WARNING:tensorflow:Callback method `on_train_batch_end` is slow compared to the batch time (batch time: 0.0992s vs `on_train_batch_end` time: 0.1110s). Check your callbacks.\n"
     ]
    },
    {
     "name": "stderr",
     "output_type": "stream",
     "text": [
      "WARNING:tensorflow:Callback method `on_train_batch_end` is slow compared to the batch time (batch time: 0.0992s vs `on_train_batch_end` time: 0.1110s). Check your callbacks.\n"
     ]
    },
    {
     "name": "stdout",
     "output_type": "stream",
     "text": [
      "469/469 [==============================] - 114s 240ms/step - d_loss: 0.5162 - g_loss: 2.5190\n",
      "Epoch 2/200\n",
      "469/469 [==============================] - 103s 219ms/step - d_loss: 0.4125 - g_loss: 1.4356\n",
      "Epoch 3/200\n",
      "469/469 [==============================] - 102s 219ms/step - d_loss: 0.3838 - g_loss: 2.1408\n",
      "Epoch 4/200\n",
      "469/469 [==============================] - 103s 220ms/step - d_loss: 0.6927 - g_loss: 0.6355\n",
      "Epoch 5/200\n",
      "469/469 [==============================] - 103s 221ms/step - d_loss: 0.6161 - g_loss: 0.4096\n",
      "Epoch 6/200\n",
      "469/469 [==============================] - 104s 221ms/step - d_loss: 0.3937 - g_loss: 0.0456\n",
      "Epoch 7/200\n",
      "469/469 [==============================] - 104s 222ms/step - d_loss: 0.3397 - g_loss: 0.0131\n",
      "Epoch 8/200\n",
      "469/469 [==============================] - 104s 222ms/step - d_loss: 0.3338 - g_loss: 0.0159\n",
      "Epoch 9/200\n",
      "469/469 [==============================] - 104s 222ms/step - d_loss: 0.6964 - g_loss: 0.3915\n",
      "Epoch 10/200\n",
      "469/469 [==============================] - 104s 222ms/step - d_loss: 0.7023 - g_loss: 0.6203\n",
      "Epoch 11/200\n",
      "469/469 [==============================] - 104s 223ms/step - d_loss: 0.6955 - g_loss: 0.6357\n",
      "Epoch 12/200\n",
      "469/469 [==============================] - 105s 223ms/step - d_loss: 0.6948 - g_loss: 0.6326\n",
      "Epoch 13/200\n",
      "469/469 [==============================] - 105s 223ms/step - d_loss: 0.6892 - g_loss: 0.6300\n",
      "Epoch 14/200\n",
      "469/469 [==============================] - 105s 223ms/step - d_loss: 0.6920 - g_loss: 0.6262\n",
      "Epoch 15/200\n",
      "469/469 [==============================] - 105s 224ms/step - d_loss: 0.6855 - g_loss: 0.6419\n",
      "Epoch 16/200\n",
      "469/469 [==============================] - 105s 224ms/step - d_loss: 0.6953 - g_loss: 0.6401\n",
      "Epoch 17/200\n",
      "469/469 [==============================] - 105s 224ms/step - d_loss: 0.6406 - g_loss: 0.8413\n",
      "Epoch 18/200\n",
      "469/469 [==============================] - 105s 225ms/step - d_loss: 0.6851 - g_loss: 0.5647\n",
      "Epoch 19/200\n",
      "469/469 [==============================] - 105s 224ms/step - d_loss: 0.6880 - g_loss: 0.6262\n",
      "Epoch 20/200\n",
      "469/469 [==============================] - 105s 224ms/step - d_loss: 0.6752 - g_loss: 0.6377\n",
      "Epoch 21/200\n",
      "469/469 [==============================] - 105s 225ms/step - d_loss: 0.6775 - g_loss: 0.5901\n",
      "Epoch 22/200\n",
      "469/469 [==============================] - 105s 225ms/step - d_loss: 0.6910 - g_loss: 0.6269\n",
      "Epoch 23/200\n",
      "469/469 [==============================] - 106s 225ms/step - d_loss: 0.6741 - g_loss: 0.6085\n",
      "Epoch 24/200\n",
      "469/469 [==============================] - 106s 225ms/step - d_loss: 0.6905 - g_loss: 0.6396\n",
      "Epoch 25/200\n",
      "469/469 [==============================] - 105s 225ms/step - d_loss: 0.6946 - g_loss: 0.6331\n",
      "Epoch 26/200\n",
      "469/469 [==============================] - 105s 225ms/step - d_loss: 0.6865 - g_loss: 0.6407\n",
      "Epoch 27/200\n",
      "469/469 [==============================] - 106s 225ms/step - d_loss: 0.6330 - g_loss: 0.6036\n",
      "Epoch 28/200\n",
      "469/469 [==============================] - 106s 225ms/step - d_loss: 0.6688 - g_loss: 0.5221\n",
      "Epoch 29/200\n",
      "469/469 [==============================] - 106s 225ms/step - d_loss: 0.6620 - g_loss: 0.5848\n",
      "Epoch 30/200\n",
      "469/469 [==============================] - 106s 225ms/step - d_loss: 0.5604 - g_loss: 0.5127\n",
      "Epoch 31/200\n",
      "469/469 [==============================] - 107s 229ms/step - d_loss: 0.5339 - g_loss: 0.2346\n",
      "Epoch 32/200\n",
      "469/469 [==============================] - 106s 225ms/step - d_loss: 0.6493 - g_loss: 0.4682\n",
      "Epoch 33/200\n",
      "469/469 [==============================] - 106s 226ms/step - d_loss: 0.6307 - g_loss: 0.5141\n",
      "Epoch 34/200\n",
      "469/469 [==============================] - 106s 225ms/step - d_loss: 0.6525 - g_loss: 0.4720\n",
      "Epoch 35/200\n",
      "469/469 [==============================] - 106s 226ms/step - d_loss: 0.6688 - g_loss: 0.5445\n",
      "Epoch 36/200\n",
      "469/469 [==============================] - 106s 225ms/step - d_loss: 0.6176 - g_loss: 0.4906\n",
      "Epoch 37/200\n",
      "469/469 [==============================] - 106s 226ms/step - d_loss: 0.6782 - g_loss: 0.5268\n",
      "Epoch 38/200\n",
      "469/469 [==============================] - 106s 226ms/step - d_loss: 0.6541 - g_loss: 0.5671\n",
      "Epoch 39/200\n",
      "469/469 [==============================] - 106s 226ms/step - d_loss: 0.6791 - g_loss: 0.5507\n",
      "Epoch 40/200\n",
      "469/469 [==============================] - 106s 226ms/step - d_loss: 0.6404 - g_loss: 0.5118\n",
      "Epoch 41/200\n",
      "469/469 [==============================] - 106s 226ms/step - d_loss: 0.6433 - g_loss: 0.5167\n",
      "Epoch 42/200\n",
      "469/469 [==============================] - 106s 226ms/step - d_loss: 0.6488 - g_loss: 0.5117\n",
      "Epoch 43/200\n",
      "469/469 [==============================] - 106s 225ms/step - d_loss: 0.6872 - g_loss: 0.5843\n",
      "Epoch 44/200\n",
      "469/469 [==============================] - 106s 226ms/step - d_loss: 0.6763 - g_loss: 0.5822\n",
      "Epoch 45/200\n",
      "469/469 [==============================] - 106s 226ms/step - d_loss: 0.6993 - g_loss: 0.5786\n",
      "Epoch 46/200\n",
      "469/469 [==============================] - 106s 226ms/step - d_loss: 0.6938 - g_loss: 0.5965\n",
      "Epoch 47/200\n",
      "469/469 [==============================] - 106s 227ms/step - d_loss: 0.6460 - g_loss: 0.8571\n",
      "Epoch 48/200\n",
      "469/469 [==============================] - 106s 226ms/step - d_loss: 0.6118 - g_loss: 0.4432\n",
      "Epoch 49/200\n",
      "469/469 [==============================] - 106s 226ms/step - d_loss: 0.6766 - g_loss: 0.5706\n",
      "Epoch 50/200\n",
      "469/469 [==============================] - 106s 226ms/step - d_loss: 0.6849 - g_loss: 0.5941\n",
      "Epoch 51/200\n",
      "469/469 [==============================] - 106s 227ms/step - d_loss: 0.6846 - g_loss: 0.6036\n",
      "Epoch 52/200\n",
      "469/469 [==============================] - 106s 227ms/step - d_loss: 0.6703 - g_loss: 0.5881\n",
      "Epoch 53/200\n",
      "469/469 [==============================] - 106s 227ms/step - d_loss: 0.6862 - g_loss: 0.6134\n",
      "Epoch 54/200\n",
      "469/469 [==============================] - 106s 226ms/step - d_loss: 0.6888 - g_loss: 0.5775\n",
      "Epoch 55/200\n",
      "469/469 [==============================] - 106s 226ms/step - d_loss: 0.6500 - g_loss: 0.6202\n",
      "Epoch 56/200\n",
      "469/469 [==============================] - 106s 227ms/step - d_loss: 0.6781 - g_loss: 0.5943\n",
      "Epoch 57/200\n",
      "469/469 [==============================] - 106s 226ms/step - d_loss: 0.6909 - g_loss: 0.5900\n",
      "Epoch 58/200\n",
      "469/469 [==============================] - 106s 226ms/step - d_loss: 0.3478 - g_loss: 0.6832\n",
      "Epoch 59/200\n",
      "469/469 [==============================] - 106s 225ms/step - d_loss: 0.2707 - g_loss: 0.4234\n",
      "Epoch 60/200\n",
      "469/469 [==============================] - 106s 225ms/step - d_loss: 0.2698 - g_loss: 0.3734\n",
      "Epoch 61/200\n",
      "469/469 [==============================] - 106s 225ms/step - d_loss: 0.2697 - g_loss: 0.3555\n",
      "Epoch 62/200\n",
      "469/469 [==============================] - 106s 225ms/step - d_loss: 0.2693 - g_loss: 0.3520\n",
      "Epoch 63/200\n",
      "469/469 [==============================] - 106s 226ms/step - d_loss: 0.3074 - g_loss: 0.1538\n",
      "Epoch 64/200\n",
      "469/469 [==============================] - 106s 226ms/step - d_loss: 0.3454 - g_loss: 0.1436\n",
      "Epoch 65/200\n",
      "469/469 [==============================] - 106s 226ms/step - d_loss: 0.6774 - g_loss: 0.4667\n",
      "Epoch 66/200\n",
      "469/469 [==============================] - 106s 226ms/step - d_loss: 0.6730 - g_loss: 0.5414\n",
      "Epoch 67/200\n",
      "469/469 [==============================] - 106s 226ms/step - d_loss: 0.7033 - g_loss: 0.5608\n",
      "Epoch 68/200\n",
      "469/469 [==============================] - 106s 226ms/step - d_loss: 0.6989 - g_loss: 0.5902\n",
      "Epoch 69/200\n",
      "469/469 [==============================] - 106s 226ms/step - d_loss: 0.6884 - g_loss: 0.6293\n",
      "Epoch 70/200\n",
      "469/469 [==============================] - 106s 226ms/step - d_loss: 0.6870 - g_loss: 0.6094\n",
      "Epoch 71/200\n",
      "469/469 [==============================] - 106s 226ms/step - d_loss: 0.6886 - g_loss: 0.6133\n",
      "Epoch 72/200\n",
      "469/469 [==============================] - 106s 226ms/step - d_loss: 0.6830 - g_loss: 0.6156\n",
      "Epoch 73/200\n",
      "469/469 [==============================] - 106s 226ms/step - d_loss: 0.6626 - g_loss: 0.5962\n",
      "Epoch 74/200\n",
      "469/469 [==============================] - 106s 226ms/step - d_loss: 0.6947 - g_loss: 0.6066\n",
      "Epoch 75/200\n",
      "469/469 [==============================] - 106s 226ms/step - d_loss: 0.7037 - g_loss: 0.6261\n",
      "Epoch 76/200\n",
      "469/469 [==============================] - 106s 227ms/step - d_loss: 0.6807 - g_loss: 0.6623\n",
      "Epoch 77/200\n",
      "469/469 [==============================] - 107s 228ms/step - d_loss: 0.6889 - g_loss: 0.6286\n",
      "Epoch 78/200\n",
      "469/469 [==============================] - 106s 227ms/step - d_loss: 0.6654 - g_loss: 0.6398\n",
      "Epoch 79/200\n",
      "469/469 [==============================] - 107s 227ms/step - d_loss: 0.6729 - g_loss: 0.6325\n",
      "Epoch 80/200\n",
      "469/469 [==============================] - 106s 227ms/step - d_loss: 0.6957 - g_loss: 0.6132\n",
      "Epoch 81/200\n",
      "469/469 [==============================] - 107s 227ms/step - d_loss: 0.6973 - g_loss: 0.6262\n",
      "Epoch 82/200\n",
      "469/469 [==============================] - 107s 227ms/step - d_loss: 0.6886 - g_loss: 0.6329\n",
      "Epoch 83/200\n",
      "469/469 [==============================] - 107s 227ms/step - d_loss: 0.6904 - g_loss: 0.6134\n",
      "Epoch 84/200\n",
      "469/469 [==============================] - 107s 227ms/step - d_loss: 0.6692 - g_loss: 0.6663\n",
      "Epoch 85/200\n",
      "469/469 [==============================] - 106s 227ms/step - d_loss: 0.6955 - g_loss: 0.6141\n",
      "Epoch 86/200\n",
      "469/469 [==============================] - 106s 227ms/step - d_loss: 0.5915 - g_loss: 0.7633\n",
      "Epoch 87/200\n",
      "469/469 [==============================] - 107s 227ms/step - d_loss: 0.3987 - g_loss: 0.2173\n",
      "Epoch 88/200\n",
      "469/469 [==============================] - 107s 227ms/step - d_loss: 0.6628 - g_loss: 0.6073\n",
      "Epoch 89/200\n",
      "469/469 [==============================] - 107s 227ms/step - d_loss: 0.6957 - g_loss: 0.5875\n",
      "Epoch 90/200\n",
      "469/469 [==============================] - 107s 227ms/step - d_loss: 0.6748 - g_loss: 0.6052\n",
      "Epoch 91/200\n",
      "469/469 [==============================] - 107s 227ms/step - d_loss: 0.6947 - g_loss: 0.6149\n",
      "Epoch 92/200\n",
      "469/469 [==============================] - 107s 227ms/step - d_loss: 0.6786 - g_loss: 0.6194\n",
      "Epoch 93/200\n",
      "469/469 [==============================] - 106s 227ms/step - d_loss: 0.7001 - g_loss: 0.6124\n",
      "Epoch 94/200\n",
      "469/469 [==============================] - 107s 227ms/step - d_loss: 0.6897 - g_loss: 0.6283\n",
      "Epoch 95/200\n",
      "469/469 [==============================] - 107s 228ms/step - d_loss: 0.6921 - g_loss: 0.6147\n",
      "Epoch 96/200\n",
      "469/469 [==============================] - 107s 227ms/step - d_loss: 0.6900 - g_loss: 0.6216\n",
      "Epoch 97/200\n",
      "469/469 [==============================] - 107s 227ms/step - d_loss: 0.6727 - g_loss: 0.6255\n",
      "Epoch 98/200\n",
      "469/469 [==============================] - 107s 227ms/step - d_loss: 0.6878 - g_loss: 0.6382\n",
      "Epoch 99/200\n",
      "469/469 [==============================] - 107s 227ms/step - d_loss: 0.6936 - g_loss: 0.6296\n",
      "Epoch 100/200\n",
      "469/469 [==============================] - 107s 227ms/step - d_loss: 0.6782 - g_loss: 0.6657\n",
      "Epoch 101/200\n",
      "469/469 [==============================] - 107s 227ms/step - d_loss: 0.6951 - g_loss: 0.5997\n",
      "Epoch 102/200\n",
      "469/469 [==============================] - 106s 227ms/step - d_loss: 0.6833 - g_loss: 0.6398\n",
      "Epoch 103/200\n",
      "469/469 [==============================] - 107s 227ms/step - d_loss: 0.6957 - g_loss: 0.6146\n",
      "Epoch 104/200\n",
      "469/469 [==============================] - 107s 227ms/step - d_loss: 0.6833 - g_loss: 0.6349\n",
      "Epoch 105/200\n",
      "469/469 [==============================] - 107s 227ms/step - d_loss: 0.6947 - g_loss: 0.6148\n",
      "Epoch 106/200\n",
      "469/469 [==============================] - 107s 227ms/step - d_loss: 0.6943 - g_loss: 0.6191\n",
      "Epoch 107/200\n",
      "469/469 [==============================] - 107s 228ms/step - d_loss: 0.6889 - g_loss: 0.6361\n",
      "Epoch 108/200\n",
      "469/469 [==============================] - 107s 228ms/step - d_loss: 0.6833 - g_loss: 0.6448\n",
      "Epoch 109/200\n",
      "469/469 [==============================] - 107s 229ms/step - d_loss: 0.6953 - g_loss: 0.6160\n",
      "Epoch 110/200\n",
      "469/469 [==============================] - 107s 228ms/step - d_loss: 0.6973 - g_loss: 0.6311\n",
      "Epoch 111/200\n",
      "469/469 [==============================] - 107s 228ms/step - d_loss: 0.6697 - g_loss: 0.6654\n",
      "Epoch 112/200\n",
      "469/469 [==============================] - 107s 228ms/step - d_loss: 0.6904 - g_loss: 0.6429\n",
      "Epoch 113/200\n",
      "469/469 [==============================] - 107s 227ms/step - d_loss: 0.6963 - g_loss: 0.6390\n",
      "Epoch 114/200\n",
      "469/469 [==============================] - 107s 228ms/step - d_loss: 0.6885 - g_loss: 0.6325\n",
      "Epoch 115/200\n",
      "469/469 [==============================] - 107s 227ms/step - d_loss: 0.6919 - g_loss: 0.6401\n",
      "Epoch 116/200\n",
      "469/469 [==============================] - 107s 227ms/step - d_loss: 0.6843 - g_loss: 0.6545\n",
      "Epoch 117/200\n",
      "469/469 [==============================] - 107s 229ms/step - d_loss: 0.6925 - g_loss: 0.6274\n",
      "Epoch 118/200\n",
      "469/469 [==============================] - 107s 228ms/step - d_loss: 0.6823 - g_loss: 0.6434\n",
      "Epoch 119/200\n",
      "469/469 [==============================] - 107s 227ms/step - d_loss: 0.6927 - g_loss: 0.6397\n",
      "Epoch 120/200\n",
      "469/469 [==============================] - 107s 228ms/step - d_loss: 0.6822 - g_loss: 0.6532\n",
      "Epoch 121/200\n",
      "469/469 [==============================] - 107s 229ms/step - d_loss: 0.6802 - g_loss: 0.6461\n",
      "Epoch 122/200\n",
      "469/469 [==============================] - 107s 228ms/step - d_loss: 0.6838 - g_loss: 0.6534\n",
      "Epoch 123/200\n",
      "469/469 [==============================] - 107s 227ms/step - d_loss: 0.6382 - g_loss: 0.7915\n",
      "Epoch 124/200\n",
      "469/469 [==============================] - 107s 227ms/step - d_loss: 0.6146 - g_loss: 0.5945\n",
      "Epoch 125/200\n",
      "469/469 [==============================] - 107s 227ms/step - d_loss: 0.6639 - g_loss: 0.6410\n",
      "Epoch 126/200\n",
      "469/469 [==============================] - 107s 227ms/step - d_loss: 0.6719 - g_loss: 0.6429\n",
      "Epoch 127/200\n",
      "469/469 [==============================] - 107s 227ms/step - d_loss: 0.6869 - g_loss: 0.6040\n",
      "Epoch 128/200\n",
      "469/469 [==============================] - 107s 227ms/step - d_loss: 0.6796 - g_loss: 0.6256\n",
      "Epoch 129/200\n",
      "469/469 [==============================] - 107s 228ms/step - d_loss: 0.6758 - g_loss: 0.6534\n",
      "Epoch 130/200\n",
      "469/469 [==============================] - 107s 227ms/step - d_loss: 0.6300 - g_loss: 0.7297\n",
      "Epoch 131/200\n",
      "469/469 [==============================] - 107s 229ms/step - d_loss: 0.6837 - g_loss: 0.5961\n",
      "Epoch 132/200\n",
      "469/469 [==============================] - 107s 228ms/step - d_loss: 0.6604 - g_loss: 0.6515\n",
      "Epoch 133/200\n",
      "469/469 [==============================] - 107s 228ms/step - d_loss: 0.6367 - g_loss: 0.7109\n",
      "Epoch 134/200\n",
      "469/469 [==============================] - 107s 229ms/step - d_loss: 0.5895 - g_loss: 0.5326\n",
      "Epoch 135/200\n",
      "469/469 [==============================] - 107s 229ms/step - d_loss: 0.6532 - g_loss: 0.6033\n",
      "Epoch 136/200\n",
      "469/469 [==============================] - 107s 228ms/step - d_loss: 0.6756 - g_loss: 0.5835\n",
      "Epoch 137/200\n",
      "469/469 [==============================] - 107s 228ms/step - d_loss: 0.6052 - g_loss: 0.7406\n",
      "Epoch 138/200\n",
      "469/469 [==============================] - 107s 229ms/step - d_loss: 0.6545 - g_loss: 0.5854\n",
      "Epoch 139/200\n",
      "469/469 [==============================] - 107s 228ms/step - d_loss: 0.6483 - g_loss: 0.6428\n",
      "Epoch 140/200\n",
      "469/469 [==============================] - 107s 228ms/step - d_loss: 0.7063 - g_loss: 0.5925\n",
      "Epoch 141/200\n",
      "469/469 [==============================] - 107s 228ms/step - d_loss: 0.6819 - g_loss: 0.6238\n",
      "Epoch 142/200\n",
      "469/469 [==============================] - 107s 228ms/step - d_loss: 0.6403 - g_loss: 0.7374\n",
      "Epoch 143/200\n",
      "469/469 [==============================] - 107s 228ms/step - d_loss: 0.6986 - g_loss: 0.5835\n",
      "Epoch 144/200\n",
      "469/469 [==============================] - 107s 228ms/step - d_loss: 0.5782 - g_loss: 0.8103\n",
      "Epoch 145/200\n",
      "469/469 [==============================] - 107s 228ms/step - d_loss: 0.6344 - g_loss: 0.7447\n",
      "Epoch 146/200\n",
      "469/469 [==============================] - 108s 230ms/step - d_loss: 0.6879 - g_loss: 0.6051\n",
      "Epoch 147/200\n",
      "469/469 [==============================] - 107s 229ms/step - d_loss: 0.6785 - g_loss: 0.6564\n",
      "Epoch 148/200\n",
      "469/469 [==============================] - 107s 229ms/step - d_loss: 0.6829 - g_loss: 0.6528\n",
      "Epoch 149/200\n",
      "469/469 [==============================] - 107s 229ms/step - d_loss: 0.6874 - g_loss: 0.6203\n",
      "Epoch 150/200\n",
      "469/469 [==============================] - 108s 229ms/step - d_loss: 0.6711 - g_loss: 0.6781\n",
      "Epoch 151/200\n",
      "469/469 [==============================] - 109s 231ms/step - d_loss: 0.6380 - g_loss: 0.7208\n",
      "Epoch 152/200\n",
      "469/469 [==============================] - 108s 231ms/step - d_loss: 0.6810 - g_loss: 0.6608\n",
      "Epoch 153/200\n",
      "469/469 [==============================] - 108s 229ms/step - d_loss: 0.6599 - g_loss: 0.6650\n",
      "Epoch 154/200\n"
     ]
    },
    {
     "name": "stdout",
     "output_type": "stream",
     "text": [
      "469/469 [==============================] - 107s 229ms/step - d_loss: 0.6948 - g_loss: 0.6421\n",
      "Epoch 155/200\n",
      "469/469 [==============================] - 108s 229ms/step - d_loss: 0.6844 - g_loss: 0.6750\n",
      "Epoch 156/200\n",
      "469/469 [==============================] - 108s 229ms/step - d_loss: 0.6641 - g_loss: 0.6726\n",
      "Epoch 157/200\n",
      "469/469 [==============================] - 108s 229ms/step - d_loss: 0.6902 - g_loss: 0.6372\n",
      "Epoch 158/200\n",
      "469/469 [==============================] - 108s 229ms/step - d_loss: 0.6831 - g_loss: 0.6400\n",
      "Epoch 159/200\n",
      "469/469 [==============================] - 108s 229ms/step - d_loss: 0.6815 - g_loss: 0.6551\n",
      "Epoch 160/200\n",
      "469/469 [==============================] - 108s 229ms/step - d_loss: 0.6403 - g_loss: 0.6792\n",
      "Epoch 161/200\n",
      "469/469 [==============================] - 108s 229ms/step - d_loss: 0.6691 - g_loss: 0.6895\n",
      "Epoch 162/200\n",
      "469/469 [==============================] - 108s 229ms/step - d_loss: 0.7045 - g_loss: 0.6043\n",
      "Epoch 163/200\n",
      "469/469 [==============================] - 108s 229ms/step - d_loss: 0.6934 - g_loss: 0.6292\n",
      "Epoch 164/200\n",
      "469/469 [==============================] - 108s 229ms/step - d_loss: 0.6606 - g_loss: 0.7018\n",
      "Epoch 165/200\n",
      "469/469 [==============================] - 108s 229ms/step - d_loss: 0.6569 - g_loss: 0.6707\n",
      "Epoch 166/200\n",
      "469/469 [==============================] - 108s 229ms/step - d_loss: 0.6609 - g_loss: 0.6669\n",
      "Epoch 167/200\n",
      "469/469 [==============================] - 108s 229ms/step - d_loss: 0.6955 - g_loss: 0.6362\n",
      "Epoch 168/200\n",
      "469/469 [==============================] - 108s 229ms/step - d_loss: 0.6750 - g_loss: 0.6618\n",
      "Epoch 169/200\n",
      "469/469 [==============================] - 108s 229ms/step - d_loss: 0.6621 - g_loss: 0.6335\n",
      "Epoch 170/200\n",
      "469/469 [==============================] - 109s 232ms/step - d_loss: 0.4431 - g_loss: 0.6984\n",
      "Epoch 171/200\n",
      "469/469 [==============================] - 108s 230ms/step - d_loss: 0.6402 - g_loss: 0.6801\n",
      "Epoch 172/200\n",
      "469/469 [==============================] - 108s 230ms/step - d_loss: 0.6252 - g_loss: 0.7749\n",
      "Epoch 173/200\n",
      "469/469 [==============================] - 108s 229ms/step - d_loss: 0.6877 - g_loss: 0.5826\n",
      "Epoch 174/200\n",
      "469/469 [==============================] - 108s 229ms/step - d_loss: 0.6145 - g_loss: 0.7206\n",
      "Epoch 175/200\n",
      "469/469 [==============================] - 108s 229ms/step - d_loss: 0.6593 - g_loss: 0.6553\n",
      "Epoch 176/200\n",
      "469/469 [==============================] - 108s 229ms/step - d_loss: 0.6772 - g_loss: 0.6832\n",
      "Epoch 177/200\n",
      "469/469 [==============================] - 108s 229ms/step - d_loss: 0.6215 - g_loss: 0.7091\n",
      "Epoch 178/200\n",
      "469/469 [==============================] - 108s 229ms/step - d_loss: 0.6553 - g_loss: 0.6859\n",
      "Epoch 179/200\n",
      "469/469 [==============================] - 108s 230ms/step - d_loss: 0.6487 - g_loss: 0.6953\n",
      "Epoch 180/200\n",
      "469/469 [==============================] - 108s 230ms/step - d_loss: 0.6777 - g_loss: 0.6265\n",
      "Epoch 181/200\n",
      "469/469 [==============================] - 108s 230ms/step - d_loss: 0.6751 - g_loss: 0.6339\n",
      "Epoch 182/200\n",
      "469/469 [==============================] - 108s 230ms/step - d_loss: 0.6528 - g_loss: 0.7329\n",
      "Epoch 183/200\n",
      "469/469 [==============================] - 108s 230ms/step - d_loss: 0.6606 - g_loss: 0.7224\n",
      "Epoch 184/200\n",
      "469/469 [==============================] - 108s 230ms/step - d_loss: 0.6803 - g_loss: 0.6598\n",
      "Epoch 185/200\n",
      "469/469 [==============================] - 108s 230ms/step - d_loss: 0.6693 - g_loss: 0.6433\n",
      "Epoch 186/200\n",
      "469/469 [==============================] - 108s 229ms/step - d_loss: 0.6542 - g_loss: 0.7337\n",
      "Epoch 187/200\n",
      "469/469 [==============================] - 108s 230ms/step - d_loss: 0.6384 - g_loss: 0.7525\n",
      "Epoch 188/200\n",
      "469/469 [==============================] - 108s 230ms/step - d_loss: 0.6491 - g_loss: 0.6701\n",
      "Epoch 189/200\n",
      "469/469 [==============================] - 108s 229ms/step - d_loss: 0.6568 - g_loss: 0.6530\n",
      "Epoch 190/200\n",
      "469/469 [==============================] - 108s 229ms/step - d_loss: 0.6518 - g_loss: 0.6706\n",
      "Epoch 191/200\n",
      "469/469 [==============================] - 108s 230ms/step - d_loss: 0.6341 - g_loss: 0.7947\n",
      "Epoch 192/200\n",
      "469/469 [==============================] - 108s 229ms/step - d_loss: 0.6812 - g_loss: 0.6702\n",
      "Epoch 193/200\n",
      "469/469 [==============================] - 108s 230ms/step - d_loss: 0.6711 - g_loss: 0.6761\n",
      "Epoch 194/200\n",
      "469/469 [==============================] - 108s 230ms/step - d_loss: 0.6369 - g_loss: 0.7292\n",
      "Epoch 195/200\n",
      "469/469 [==============================] - 108s 230ms/step - d_loss: 0.5552 - g_loss: 0.8329\n",
      "Epoch 196/200\n",
      "469/469 [==============================] - 108s 230ms/step - d_loss: 0.6570 - g_loss: 0.6699\n",
      "Epoch 197/200\n",
      "469/469 [==============================] - 108s 230ms/step - d_loss: 0.6227 - g_loss: 0.7099\n",
      "Epoch 198/200\n",
      "469/469 [==============================] - 108s 230ms/step - d_loss: 0.6918 - g_loss: 0.6571\n",
      "Epoch 199/200\n",
      "469/469 [==============================] - 108s 229ms/step - d_loss: 0.6602 - g_loss: 0.7063\n",
      "Epoch 200/200\n",
      "469/469 [==============================] - 108s 231ms/step - d_loss: 0.6621 - g_loss: 0.7177\n"
     ]
    }
   ],
   "source": [
    "hist = fashgan.fit(ds, epochs=200, callbacks=[ModelMonitor()])"
   ]
  },
  {
   "cell_type": "code",
   "execution_count": 173,
   "id": "5bf86ab3",
   "metadata": {
    "scrolled": true
   },
   "outputs": [
    {
     "data": {
      "image/png": "[encoded data removed]",
      "text/plain": [
       "<Figure size 432x288 with 1 Axes>"
      ]
     },
     "metadata": {
      "needs_background": "light"
     },
     "output_type": "display_data"
    }
   ],
   "source": [
    "plt.suptitle('Loss')\n",
    "plt.plot(hist.history['d_loss'], label='d_loss')\n",
    "plt.plot(hist.history['g_loss'], label='g_loss')\n",
    "plt.legend()\n",
    "plt.show()"
   ]
  },
  {
   "cell_type": "code",
   "execution_count": 29,
   "id": "d01a4926",
   "metadata": {},
   "outputs": [],
   "source": [
    "generator.load_weights('generator.h5', by_name=True)"
   ]
  },
  {
   "cell_type": "code",
   "execution_count": 30,
   "id": "a5db666f",
   "metadata": {},
   "outputs": [],
   "source": [
    "imgs = generator.predict(tf.random.normal((16, 128, 1)))"
   ]
  },
  {
   "cell_type": "code",
   "execution_count": 31,
   "id": "8a575dec",
   "metadata": {},
   "outputs": [
    {
     "data": {
      "image/png": "[encoded data removed]",
      "text/plain": [
       "<Figure size 720x720 with 16 Axes>"
      ]
     },
     "metadata": {
      "needs_background": "light"
     },
     "output_type": "display_data"
    }
   ],
   "source": [
    "fig, ax = plt.subplots(ncols=4, nrows=4, figsize=(10,10))\n",
    "for r in range(4): \n",
    "    for c in range(4): \n",
    "        ax[r][c].imshow(imgs[(r+1)*(c+1)-1])"
   ]
  },
  {
   "cell_type": "code",
   "execution_count": 32,
   "id": "4c903c2d",
   "metadata": {},
   "outputs": [
    {
     "name": "stdout",
     "output_type": "stream",
     "text": [
      "WARNING:tensorflow:Compiled the loaded model, but the compiled metrics have yet to be built. `model.compile_metrics` will be empty until you train or evaluate the model.\n"
     ]
    },
    {
     "name": "stderr",
     "output_type": "stream",
     "text": [
      "WARNING:tensorflow:Compiled the loaded model, but the compiled metrics have yet to be built. `model.compile_metrics` will be empty until you train or evaluate the model.\n"
     ]
    },
    {
     "name": "stdout",
     "output_type": "stream",
     "text": [
      "WARNING:tensorflow:Compiled the loaded model, but the compiled metrics have yet to be built. `model.compile_metrics` will be empty until you train or evaluate the model.\n"
     ]
    },
    {
     "name": "stderr",
     "output_type": "stream",
     "text": [
      "WARNING:tensorflow:Compiled the loaded model, but the compiled metrics have yet to be built. `model.compile_metrics` will be empty until you train or evaluate the model.\n"
     ]
    }
   ],
   "source": [
    "generator.save('generator.h5')\n",
    "discriminator.save('discriminator.h5')"
   ]
  },
  {
   "cell_type": "code",
   "execution_count": 45,
   "id": "54488c65",
   "metadata": {},
   "outputs": [
    {
     "data": {
      "image/png": "[encoded data removed]",
      "text/plain": [
       "<Figure size 720x720 with 3 Axes>"
      ]
     },
     "metadata": {
      "needs_background": "light"
     },
     "output_type": "display_data"
    }
   ],
   "source": [
    "fig, ax = plt.subplots(ncols=3, nrows=1, figsize=(10,10))\n",
    "for r in range(3): \n",
    "    img = plt.imread(\"imagenes_generadas/generated_img_\" + str(r) + \".png\")\n",
    "    ax[r].imshow(img)\n",
    "    #ax[r].axis('off')\n"
   ]
  }
 ],
 "metadata": {
  "kernelspec": {
   "display_name": "ptl_env",
   "language": "python",
   "name": "ptl_env"
  },
  "language_info": {
   "codemirror_mode": {
    "name": "ipython",
    "version": 3
   },
   "file_extension": ".py",
   "mimetype": "text/x-python",
   "name": "python",
   "nbconvert_exporter": "python",
   "pygments_lexer": "ipython3",
   "version": "3.9.7"
  }
 },
 "nbformat": 4,
 "nbformat_minor": 5
}
