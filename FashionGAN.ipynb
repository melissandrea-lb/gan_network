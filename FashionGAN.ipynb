{
 "cells": [
  {
   "cell_type": "markdown",
   "id": "3f8ba38e",
   "metadata": {},
   "source": [
    "# Librerias "
   ]
  },
  {
   "cell_type": "code",
   "execution_count": null,
   "id": "5d636d0f",
   "metadata": {},
   "outputs": [],
   "source": [
    "import tensorflow as tf\n",
    "import tensorflow_datasets as tfds"
   ]
  },
  {
   "cell_type": "code",
   "execution_count": 2,
   "id": "1222b729",
   "metadata": {},
   "outputs": [],
   "source": [
    "gpus = tf.config.experimental.list_physical_devices('GPU')\n",
    "for gpu in gpus:\n",
    "    tf.config.experimental.set_memory_growth(gpu, True)"
   ]
  },
  {
   "cell_type": "code",
   "execution_count": 3,
   "id": "21da2189",
   "metadata": {},
   "outputs": [
    {
     "name": "stdout",
     "output_type": "stream",
     "text": [
      "PhysicalDevice(name='/physical_device:GPU:0', device_type='GPU')\n"
     ]
    }
   ],
   "source": [
    "for gpu in gpus:\n",
    "    print(gpu)"
   ]
  },
  {
   "cell_type": "markdown",
   "id": "9a722576",
   "metadata": {},
   "source": [
    "# Visualizacion de datos"
   ]
  },
  {
   "cell_type": "code",
   "execution_count": 9,
   "id": "8a9c8794",
   "metadata": {},
   "outputs": [],
   "source": [
    "import numpy as np"
   ]
  },
  {
   "cell_type": "code",
   "execution_count": 10,
   "id": "2f824d8a",
   "metadata": {},
   "outputs": [],
   "source": [
    "dataiterator = ds.as_numpy_iterator()"
   ]
  },
  {
   "cell_type": "code",
   "execution_count": 15,
   "id": "e5999123",
   "metadata": {},
   "outputs": [
    {
     "data": {
      "text/plain": [
       "(28, 28)"
      ]
     },
     "execution_count": 15,
     "metadata": {},
     "output_type": "execute_result"
    }
   ],
   "source": [
    "np.squeeze(dataiterator.next()['image']).shape"
   ]
  },
  {
   "cell_type": "code",
   "execution_count": 16,
   "id": "78a1e463",
   "metadata": {},
   "outputs": [
    {
     "data": {
      "image/png": "[encoded data removed]",
      "text/plain": [
       "<Figure size 1440x1440 with 4 Axes>"
      ]
     },
     "metadata": {
      "needs_background": "light"
     },
     "output_type": "display_data"
    }
   ],
   "source": [
    "fig, ax = plt.subplots(ncols=4, figsize=(20,20))\n",
    "for idx in range(4):\n",
    "    sample = dataiterator.next()\n",
    "    ax[idx].imshow(np.squeeze(sample['image']))\n",
    "    ax[idx].title.set_text(sample['label'])    "
   ]
  },
  {
   "cell_type": "code",
   "execution_count": 19,
   "id": "93d4f2fa",
   "metadata": {},
   "outputs": [],
   "source": [
    "def scale_images(data):\n",
    "    image = data['image']\n",
    "    return image/255"
   ]
  },
  {
   "cell_type": "code",
   "execution_count": 20,
   "id": "c2947e9b",
   "metadata": {},
   "outputs": [],
   "source": [
    "ds = tfds.load('fashion_mnist', split='train')\n",
    "ds = ds.map(scale_images)\n",
    "ds = ds.cache()\n",
    "ds = ds.shuffle(60000)\n",
    "ds = ds.batch(128)\n",
    "ds = ds.prefetch(64)"
   ]
  },
  {
   "cell_type": "markdown",
   "id": "49adfe3d",
   "metadata": {},
   "source": [
    "# Neural Network"
   ]
  },
  {
   "cell_type": "code",
   "execution_count": 23,
   "id": "0915eae7",
   "metadata": {},
   "outputs": [],
   "source": [
    "from tensorflow.keras.models import Sequential\n",
    "from tensorflow.keras.layers import Conv2D, Dense, Flatten, Reshape, LeakyReLU, Dropout, UpSampling2D"
   ]
  },
  {
   "cell_type": "code",
   "execution_count": 27,
   "id": "22bbdec7",
   "metadata": {},
   "outputs": [],
   "source": [
    "def build_generator():\n",
    "    model = Sequential()\n",
    "    \n",
    "    model.add(Dense(7*7*128, input_dim=128))\n",
    "    model.add(LeakyReLU(0.2))\n",
    "    model.add(Reshape((7,7,128)))\n",
    "    \n",
    "    model.add(UpSampling2D())\n",
    "    model.add(Conv2D(128, 5, padding='same'))\n",
    "    model.add(LeakyReLU(0.2))\n",
    "    \n",
    "    model.add(UpSampling2D())\n",
    "    model.add(Conv2D(128, 5, padding='same'))\n",
    "    model.add(LeakyReLU(0.2))\n",
    "    \n",
    "    model.add(Conv2D(128, 4, padding='same'))\n",
    "    model.add(LeakyReLU(0.2))\n",
    "    \n",
    "    model.add(Conv2D(128, 4, padding='same'))\n",
    "    model.add(LeakyReLU(0.2))\n",
    "    \n",
    "    model.add(Conv2D(1, 4, padding='same', activation='sigmoid'))\n",
    "    \n",
    "    return model"
   ]
  },
  {
   "cell_type": "code",
   "execution_count": 28,
   "id": "a699bed1",
   "metadata": {},
   "outputs": [],
   "source": [
    "generator = build_generator()"
   ]
  },
  {
   "cell_type": "code",
   "execution_count": 29,
   "id": "30e8b4d0",
   "metadata": {},
   "outputs": [
    {
     "name": "stdout",
     "output_type": "stream",
     "text": [
      "Model: \"sequential_1\"\n",
      "_________________________________________________________________\n",
      " Layer (type)                Output Shape              Param #   \n",
      "=================================================================\n",
      " dense_1 (Dense)             (None, 6272)              809088    \n",
      "                                                                 \n",
      " leaky_re_lu_1 (LeakyReLU)   (None, 6272)              0         \n",
      "                                                                 \n",
      " reshape_1 (Reshape)         (None, 7, 7, 128)         0         \n",
      "                                                                 \n",
      " up_sampling2d (UpSampling2D  (None, 14, 14, 128)      0         \n",
      " )                                                               \n",
      "                                                                 \n",
      " conv2d (Conv2D)             (None, 14, 14, 128)       409728    \n",
      "                                                                 \n",
      " leaky_re_lu_2 (LeakyReLU)   (None, 14, 14, 128)       0         \n",
      "                                                                 \n",
      " up_sampling2d_1 (UpSampling  (None, 28, 28, 128)      0         \n",
      " 2D)                                                             \n",
      "                                                                 \n",
      " conv2d_1 (Conv2D)           (None, 28, 28, 128)       409728    \n",
      "                                                                 \n",
      " leaky_re_lu_3 (LeakyReLU)   (None, 28, 28, 128)       0         \n",
      "                                                                 \n",
      " conv2d_2 (Conv2D)           (None, 28, 28, 128)       262272    \n",
      "                                                                 \n",
      " leaky_re_lu_4 (LeakyReLU)   (None, 28, 28, 128)       0         \n",
      "                                                                 \n",
      " conv2d_3 (Conv2D)           (None, 28, 28, 128)       262272    \n",
      "                                                                 \n",
      " leaky_re_lu_5 (LeakyReLU)   (None, 28, 28, 128)       0         \n",
      "                                                                 \n",
      " conv2d_4 (Conv2D)           (None, 28, 28, 1)         2049      \n",
      "                                                                 \n",
      "=================================================================\n",
      "Total params: 2,155,137\n",
      "Trainable params: 2,155,137\n",
      "Non-trainable params: 0\n",
      "_________________________________________________________________\n"
     ]
    }
   ],
   "source": [
    "generator.summary()"
   ]
  },
  {
   "cell_type": "code",
   "execution_count": 30,
   "id": "151360b2",
   "metadata": {},
   "outputs": [
    {
     "data": {
      "text/plain": [
       "array([[[[0.52198905],\n",
       "         [0.5116014 ],\n",
       "         [0.5113948 ],\n",
       "         ...,\n",
       "         [0.5040231 ],\n",
       "         [0.5017586 ],\n",
       "         [0.50100976]],\n",
       "\n",
       "        [[0.52082366],\n",
       "         [0.5108356 ],\n",
       "         [0.5068082 ],\n",
       "         ...,\n",
       "         [0.5076459 ],\n",
       "         [0.50143945],\n",
       "         [0.49938112]],\n",
       "\n",
       "        [[0.5178509 ],\n",
       "         [0.51502657],\n",
       "         [0.50798845],\n",
       "         ...,\n",
       "         [0.50734854],\n",
       "         [0.49860024],\n",
       "         [0.49732396]],\n",
       "\n",
       "        ...,\n",
       "\n",
       "        [[0.50205326],\n",
       "         [0.5016662 ],\n",
       "         [0.4892893 ],\n",
       "         ...,\n",
       "         [0.4994287 ],\n",
       "         [0.49724638],\n",
       "         [0.5001658 ]],\n",
       "\n",
       "        [[0.5022301 ],\n",
       "         [0.500792  ],\n",
       "         [0.49815178],\n",
       "         ...,\n",
       "         [0.5007508 ],\n",
       "         [0.49936447],\n",
       "         [0.50265193]],\n",
       "\n",
       "        [[0.4973533 ],\n",
       "         [0.49585634],\n",
       "         [0.4972723 ],\n",
       "         ...,\n",
       "         [0.50183463],\n",
       "         [0.50112677],\n",
       "         [0.50115997]]],\n",
       "\n",
       "\n",
       "       [[[0.5165619 ],\n",
       "         [0.5122086 ],\n",
       "         [0.50375414],\n",
       "         ...,\n",
       "         [0.507012  ],\n",
       "         [0.49502146],\n",
       "         [0.496066  ]],\n",
       "\n",
       "        [[0.514953  ],\n",
       "         [0.50942767],\n",
       "         [0.5065102 ],\n",
       "         ...,\n",
       "         [0.50820535],\n",
       "         [0.4971555 ],\n",
       "         [0.49789757]],\n",
       "\n",
       "        [[0.51718706],\n",
       "         [0.5185909 ],\n",
       "         [0.51788807],\n",
       "         ...,\n",
       "         [0.5092126 ],\n",
       "         [0.49826214],\n",
       "         [0.49923393]],\n",
       "\n",
       "        ...,\n",
       "\n",
       "        [[0.50141656],\n",
       "         [0.5015287 ],\n",
       "         [0.50117224],\n",
       "         ...,\n",
       "         [0.50456595],\n",
       "         [0.49808618],\n",
       "         [0.5043602 ]],\n",
       "\n",
       "        [[0.50015306],\n",
       "         [0.50183016],\n",
       "         [0.49633574],\n",
       "         ...,\n",
       "         [0.50498056],\n",
       "         [0.50243473],\n",
       "         [0.5046272 ]],\n",
       "\n",
       "        [[0.5001032 ],\n",
       "         [0.4993622 ],\n",
       "         [0.4958743 ],\n",
       "         ...,\n",
       "         [0.5010294 ],\n",
       "         [0.50011   ],\n",
       "         [0.5017547 ]]],\n",
       "\n",
       "\n",
       "       [[[0.51361936],\n",
       "         [0.5151163 ],\n",
       "         [0.51180035],\n",
       "         ...,\n",
       "         [0.5115985 ],\n",
       "         [0.50345814],\n",
       "         [0.5017417 ]],\n",
       "\n",
       "        [[0.51918095],\n",
       "         [0.5187291 ],\n",
       "         [0.51388645],\n",
       "         ...,\n",
       "         [0.51271904],\n",
       "         [0.50666726],\n",
       "         [0.5090718 ]],\n",
       "\n",
       "        [[0.51507735],\n",
       "         [0.5082946 ],\n",
       "         [0.5115025 ],\n",
       "         ...,\n",
       "         [0.506785  ],\n",
       "         [0.5005307 ],\n",
       "         [0.50513166]],\n",
       "\n",
       "        ...,\n",
       "\n",
       "        [[0.50808865],\n",
       "         [0.5083328 ],\n",
       "         [0.5048768 ],\n",
       "         ...,\n",
       "         [0.5047059 ],\n",
       "         [0.50336915],\n",
       "         [0.5055483 ]],\n",
       "\n",
       "        [[0.4980032 ],\n",
       "         [0.50258416],\n",
       "         [0.49705097],\n",
       "         ...,\n",
       "         [0.5066219 ],\n",
       "         [0.50467527],\n",
       "         [0.50238067]],\n",
       "\n",
       "        [[0.5021015 ],\n",
       "         [0.50144714],\n",
       "         [0.4963971 ],\n",
       "         ...,\n",
       "         [0.5007306 ],\n",
       "         [0.5042688 ],\n",
       "         [0.5018568 ]]],\n",
       "\n",
       "\n",
       "       [[[0.51050866],\n",
       "         [0.5018929 ],\n",
       "         [0.5060719 ],\n",
       "         ...,\n",
       "         [0.49860948],\n",
       "         [0.48927352],\n",
       "         [0.4962405 ]],\n",
       "\n",
       "        [[0.5110408 ],\n",
       "         [0.5105078 ],\n",
       "         [0.5091701 ],\n",
       "         ...,\n",
       "         [0.50023794],\n",
       "         [0.49018142],\n",
       "         [0.49543914]],\n",
       "\n",
       "        [[0.5133811 ],\n",
       "         [0.51278734],\n",
       "         [0.5104763 ],\n",
       "         ...,\n",
       "         [0.50706905],\n",
       "         [0.49029127],\n",
       "         [0.50059867]],\n",
       "\n",
       "        ...,\n",
       "\n",
       "        [[0.50566113],\n",
       "         [0.50820285],\n",
       "         [0.5100439 ],\n",
       "         ...,\n",
       "         [0.50413305],\n",
       "         [0.50416213],\n",
       "         [0.5048009 ]],\n",
       "\n",
       "        [[0.50259197],\n",
       "         [0.5010517 ],\n",
       "         [0.50196165],\n",
       "         ...,\n",
       "         [0.50243086],\n",
       "         [0.503995  ],\n",
       "         [0.50435996]],\n",
       "\n",
       "        [[0.50205636],\n",
       "         [0.49943736],\n",
       "         [0.49820438],\n",
       "         ...,\n",
       "         [0.5024896 ],\n",
       "         [0.50340676],\n",
       "         [0.50290763]]]], dtype=float32)"
      ]
     },
     "execution_count": 30,
     "metadata": {},
     "output_type": "execute_result"
    }
   ],
   "source": [
    "img = generator.predict(np.random.randn(4,128,1))\n",
    "img"
   ]
  },
  {
   "cell_type": "code",
   "execution_count": 31,
   "id": "4f0c1aa2",
   "metadata": {},
   "outputs": [
    {
     "data": {
      "image/png": "[encoded data removed]",
      "text/plain": [
       "<Figure size 1440x1440 with 4 Axes>"
      ]
     },
     "metadata": {
      "needs_background": "light"
     },
     "output_type": "display_data"
    }
   ],
   "source": [
    "img = generator.predict(np.random.randn(4,128,1))\n",
    "fig, ax = plt.subplots(ncols=4, figsize=(20,20))\n",
    "for idx, img in enumerate(img):\n",
    "    ax[idx].imshow(np.squeeze(img))\n",
    "    ax[idx].title.set_text(idx)    "
   ]
  },
  {
   "cell_type": "code",
   "execution_count": 32,
   "id": "d01f24df",
   "metadata": {},
   "outputs": [],
   "source": [
    "def build_discriminator():\n",
    "    model = Sequential()\n",
    "    \n",
    "    model.add(Conv2D(32, 5, input_shape = (28,28,1)))\n",
    "    model.add(LeakyReLU(0.2))\n",
    "    model.add(Dropout(0.4))\n",
    "    \n",
    "    return model"
   ]
  },
  {
   "cell_type": "code",
   "execution_count": 35,
   "id": "fdbcb782",
   "metadata": {},
   "outputs": [],
   "source": [
    "discriminator = build_discriminator()"
   ]
  },
  {
   "cell_type": "code",
   "execution_count": 36,
   "id": "9dd9a624",
   "metadata": {},
   "outputs": [
    {
     "name": "stdout",
     "output_type": "stream",
     "text": [
      "Model: \"sequential_3\"\n",
      "_________________________________________________________________\n",
      " Layer (type)                Output Shape              Param #   \n",
      "=================================================================\n",
      " conv2d_6 (Conv2D)           (None, 24, 24, 32)        832       \n",
      "                                                                 \n",
      " leaky_re_lu_7 (LeakyReLU)   (None, 24, 24, 32)        0         \n",
      "                                                                 \n",
      " dropout_1 (Dropout)         (None, 24, 24, 32)        0         \n",
      "                                                                 \n",
      "=================================================================\n",
      "Total params: 832\n",
      "Trainable params: 832\n",
      "Non-trainable params: 0\n",
      "_________________________________________________________________\n"
     ]
    }
   ],
   "source": [
    "discriminator.summary()"
   ]
  },
  {
   "cell_type": "code",
   "execution_count": null,
   "id": "4dc19711",
   "metadata": {},
   "outputs": [],
   "source": []
  }
 ],
 "metadata": {
  "kernelspec": {
   "display_name": "ptl_env",
   "language": "python",
   "name": "ptl_env"
  },
  "language_info": {
   "codemirror_mode": {
    "name": "ipython",
    "version": 3
   },
   "file_extension": ".py",
   "mimetype": "text/x-python",
   "name": "python",
   "nbconvert_exporter": "python",
   "pygments_lexer": "ipython3",
   "version": "3.9.7"
  }
 },
 "nbformat": 4,
 "nbformat_minor": 5
}
